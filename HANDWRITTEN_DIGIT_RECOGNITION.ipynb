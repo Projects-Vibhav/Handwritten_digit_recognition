{
  "nbformat": 4,
  "nbformat_minor": 0,
  "metadata": {
    "colab": {
      "provenance": []
    },
    "kernelspec": {
      "name": "python3",
      "display_name": "Python 3"
    },
    "language_info": {
      "name": "python"
    }
  },
  "cells": [
    {
      "cell_type": "code",
      "execution_count": null,
      "metadata": {
        "id": "211H82PUGFcQ"
      },
      "outputs": [],
      "source": []
    },
    {
      "cell_type": "code",
      "source": [
        "import keras\n",
        "from keras.datasets import mnist\n",
        "from keras.models import Sequential\n",
        "from keras.layers import Dense, Dropout, Flatten\n",
        "from keras.layers import Conv2D, MaxPooling2D\n",
        "from keras import backend as K\n",
        "import matplotlib.pyplot as plt# Library for plotting the images\n",
        "from sklearn.model_selection import train_test_split\n",
        "from sklearn.linear_model import LogisticRegression\n",
        "from sklearn.metrics import classification_report\n",
        "from sklearn.metrics import confusion_matrix\n",
        "import seaborn as sn\n",
        "#import tensorflow as tf# We import the data set from tensorflow and build the model there\n",
        "\n",
        "%matplotlib inline\n",
        "# the data, split between train and test sets\n",
        "(x_train, y_train), (x_test, y_test) = mnist.load_data()\n",
        "\n",
        "print(x_train.shape, y_train.shape)"
      ],
      "metadata": {
        "colab": {
          "base_uri": "https://localhost:8080/"
        },
        "id": "tUGCr1-orn-Z",
        "outputId": "96645803-368e-45b1-d4be-ad42efacf7d4"
      },
      "execution_count": null,
      "outputs": [
        {
          "output_type": "stream",
          "name": "stdout",
          "text": [
            "(60000, 28, 28) (60000,)\n"
          ]
        }
      ]
    },
    {
      "cell_type": "code",
      "source": [
        "num_classes=10\n",
        "x_train = x_train.reshape(x_train.shape[0], 28, 28, 1) #x_train[0]=60000 as seen above which is the number of images given, 28x28 is the size of the images,\n",
        "#1 signifies 2^1 colours which means black and white\n",
        "x_test = x_test.reshape(x_test.shape[0], 28, 28, 1)#same for test dataset\n",
        "input_shape = (28, 28, 1)\n",
        "\n",
        "# convert class vectors to binary class matrices\n",
        "y_train = keras.utils.to_categorical(y_train, num_classes)\n",
        "y_test = keras.utils.to_categorical(y_test, num_classes)\n",
        "\n",
        "x_train = x_train.astype('float32')\n",
        "x_test = x_test.astype('float32')\n",
        "x_train /= 255# Normalize pixel values between 0 and 1\n",
        "x_test /= 255\n",
        "print('x_train shape:', x_train.shape)\n",
        "print(x_train.shape[0], 'train samples')\n",
        "print(x_test.shape[0], 'test samples')"
      ],
      "metadata": {
        "colab": {
          "base_uri": "https://localhost:8080/"
        },
        "id": "g3tLCxk6K7n6",
        "outputId": "cc3d58b0-41e9-46c5-8795-f59b1db08aaf"
      },
      "execution_count": null,
      "outputs": [
        {
          "output_type": "stream",
          "name": "stdout",
          "text": [
            "x_train shape: (60000, 28, 28, 1)\n",
            "60000 train samples\n",
            "10000 test samples\n"
          ]
        }
      ]
    },
    {
      "cell_type": "code",
      "source": [
        "batch_size = 128\n",
        "num_classes = 10\n",
        "epochs = 15\n",
        "\n",
        "model = Sequential()#using sequential dataflow model\n",
        "model.add(Conv2D(32, kernel_size=(3, 3),activation='relu',input_shape=input_shape))#32 is the number of kernel/filters,3x3 is the size of the filter,we use relu \n",
        "#because we dont want any negative values for the pixels,input shape specifies size of input image\n",
        "model.add(Conv2D(64, (3, 3), activation='relu'))\n",
        "model.add(MaxPooling2D(pool_size=(2, 2)))#2x2 is the size of the pooling kernel\n",
        "model.add(Dropout(0.25))#dropping out the nodes (input and hidden layer) in a neural network\n",
        "model.add(Flatten())#flatten make the given data to a one dimension array\n",
        "model.add(Dense(64, activation='relu'))#using dense to connect all the nodes of the cnn architecture to each other\n",
        "model.add(Dropout(0.5))\n",
        "model.add(Dense(num_classes, activation='softmax'))#num_classes tell the number of nodes in the output layer\n",
        "\n",
        "model.summary()"
      ],
      "metadata": {
        "colab": {
          "base_uri": "https://localhost:8080/"
        },
        "id": "6drl9QDiOzjB",
        "outputId": "f2d0d296-2386-4c35-c33e-a4ea17ddefef"
      },
      "execution_count": null,
      "outputs": [
        {
          "output_type": "stream",
          "name": "stdout",
          "text": [
            "Model: \"sequential_5\"\n",
            "_________________________________________________________________\n",
            " Layer (type)                Output Shape              Param #   \n",
            "=================================================================\n",
            " conv2d_10 (Conv2D)          (None, 26, 26, 32)        320       \n",
            "                                                                 \n",
            " conv2d_11 (Conv2D)          (None, 24, 24, 64)        18496     \n",
            "                                                                 \n",
            " max_pooling2d_5 (MaxPooling  (None, 12, 12, 64)       0         \n",
            " 2D)                                                             \n",
            "                                                                 \n",
            " dropout_10 (Dropout)        (None, 12, 12, 64)        0         \n",
            "                                                                 \n",
            " flatten_5 (Flatten)         (None, 9216)              0         \n",
            "                                                                 \n",
            " dense_10 (Dense)            (None, 64)                589888    \n",
            "                                                                 \n",
            " dropout_11 (Dropout)        (None, 64)                0         \n",
            "                                                                 \n",
            " dense_11 (Dense)            (None, 10)                650       \n",
            "                                                                 \n",
            "=================================================================\n",
            "Total params: 609,354\n",
            "Trainable params: 609,354\n",
            "Non-trainable params: 0\n",
            "_________________________________________________________________\n"
          ]
        }
      ]
    },
    {
      "cell_type": "code",
      "source": [
        "#training the model with adam optimizer\n",
        "model.compile(loss=keras.losses.categorical_crossentropy,optimizer=keras.optimizers.Adam(),metrics=['accuracy'])\n",
        "hist = model.fit(x_train, y_train,batch_size=batch_size,epochs=epochs,verbose=1,validation_data=(x_test, y_test))#training with the training dataset that we split before and verifying with the test dataset\n",
        "#print(\"The model has successfully trained\")\n",
        "              "
      ],
      "metadata": {
        "colab": {
          "base_uri": "https://localhost:8080/"
        },
        "id": "iwfqzebhR77u",
        "outputId": "e92f11cb-e0ab-46e7-e33f-1ab9da93384b"
      },
      "execution_count": null,
      "outputs": [
        {
          "output_type": "stream",
          "name": "stdout",
          "text": [
            "Epoch 1/15\n",
            "469/469 [==============================] - 160s 339ms/step - loss: 0.3392 - accuracy: 0.8942 - val_loss: 0.0702 - val_accuracy: 0.9780\n",
            "Epoch 2/15\n",
            "469/469 [==============================] - 163s 347ms/step - loss: 0.1312 - accuracy: 0.9605 - val_loss: 0.0437 - val_accuracy: 0.9841\n",
            "Epoch 3/15\n",
            "469/469 [==============================] - 158s 336ms/step - loss: 0.1040 - accuracy: 0.9691 - val_loss: 0.0376 - val_accuracy: 0.9875\n",
            "Epoch 4/15\n",
            "469/469 [==============================] - 156s 332ms/step - loss: 0.0843 - accuracy: 0.9743 - val_loss: 0.0371 - val_accuracy: 0.9871\n",
            "Epoch 5/15\n",
            "469/469 [==============================] - 155s 331ms/step - loss: 0.0747 - accuracy: 0.9768 - val_loss: 0.0332 - val_accuracy: 0.9888\n",
            "Epoch 6/15\n",
            "469/469 [==============================] - 152s 324ms/step - loss: 0.0683 - accuracy: 0.9792 - val_loss: 0.0327 - val_accuracy: 0.9899\n",
            "Epoch 7/15\n",
            "469/469 [==============================] - 153s 327ms/step - loss: 0.0626 - accuracy: 0.9810 - val_loss: 0.0290 - val_accuracy: 0.9910\n",
            "Epoch 8/15\n",
            "469/469 [==============================] - 151s 322ms/step - loss: 0.0605 - accuracy: 0.9809 - val_loss: 0.0302 - val_accuracy: 0.9898\n",
            "Epoch 9/15\n",
            "469/469 [==============================] - 153s 325ms/step - loss: 0.0526 - accuracy: 0.9829 - val_loss: 0.0266 - val_accuracy: 0.9914\n",
            "Epoch 10/15\n",
            "469/469 [==============================] - 153s 327ms/step - loss: 0.0497 - accuracy: 0.9840 - val_loss: 0.0328 - val_accuracy: 0.9902\n",
            "Epoch 11/15\n",
            "469/469 [==============================] - 153s 327ms/step - loss: 0.0465 - accuracy: 0.9851 - val_loss: 0.0296 - val_accuracy: 0.9919\n",
            "Epoch 12/15\n",
            "469/469 [==============================] - 152s 325ms/step - loss: 0.0438 - accuracy: 0.9853 - val_loss: 0.0312 - val_accuracy: 0.9910\n",
            "Epoch 13/15\n",
            "469/469 [==============================] - 149s 318ms/step - loss: 0.0408 - accuracy: 0.9865 - val_loss: 0.0333 - val_accuracy: 0.9909\n",
            "Epoch 14/15\n",
            "469/469 [==============================] - 151s 321ms/step - loss: 0.0372 - accuracy: 0.9880 - val_loss: 0.0326 - val_accuracy: 0.9915\n",
            "Epoch 15/15\n",
            "469/469 [==============================] - 149s 318ms/step - loss: 0.0374 - accuracy: 0.9880 - val_loss: 0.0342 - val_accuracy: 0.9907\n"
          ]
        }
      ]
    },
    {
      "cell_type": "code",
      "source": [
        "score = model.evaluate(x_test, y_test, verbose=0)#Evaluating the model after training\n",
        "print('Test loss:', score[0])\n",
        "print('Test accuracy:', score[1])"
      ],
      "metadata": {
        "colab": {
          "base_uri": "https://localhost:8080/"
        },
        "id": "DeeJvHhTSBZ0",
        "outputId": "2c768935-37a0-46cd-a998-3db45ba7f4d8"
      },
      "execution_count": null,
      "outputs": [
        {
          "output_type": "stream",
          "name": "stdout",
          "text": [
            "Test loss: 0.034223392605781555\n",
            "Test accuracy: 0.9907000064849854\n"
          ]
        }
      ]
    },
    {
      "cell_type": "code",
      "source": [
        "#plot between accuracy and val_accuracy\n",
        "plt.plot(hist.history['accuracy'], label='accuracy')\n",
        "plt.plot(hist.history['val_accuracy'], label = 'val_accuracy')\n",
        "plt.xlabel('Epoch')\n",
        "plt.ylabel('Accuracy')\n",
        "plt.ylim([0.5, 1])\n",
        "plt.legend(loc='lower right')"
      ],
      "metadata": {
        "colab": {
          "base_uri": "https://localhost:8080/",
          "height": 300
        },
        "id": "MGRnW01fZLed",
        "outputId": "7fa6140a-4b99-4316-dce5-d64ed93127a9"
      },
      "execution_count": null,
      "outputs": [
        {
          "output_type": "execute_result",
          "data": {
            "text/plain": [
              "<matplotlib.legend.Legend at 0x7fd80105bf50>"
            ]
          },
          "metadata": {},
          "execution_count": 46
        },
        {
          "output_type": "display_data",
          "data": {
            "text/plain": [
              "<Figure size 432x288 with 1 Axes>"
            ],
            "image/png": "[encoded data removed]"
          },
          "metadata": {
            "needs_background": "light"
          }
        }
      ]
    },
    {
      "cell_type": "code",
      "source": [
        "\n",
        "test_predictions = model.predict(x_test)\n",
        "(x_train, y_train), (x_test, y_test) = mnist.load_data()\n",
        "import numpy as np\n",
        "import itertools\n",
        "#import tensorflow as tf\n",
        "#from sklearn.metrics import confusion_matrix\n",
        "\n",
        "#the below function is to print the confusion matrix in an attractive manner\n",
        "def plot_confusion_matrix(cm, classes,\n",
        "                          normalize=False,\n",
        "                          title='Confusion matrix',\n",
        "                          cmap=plt.cm.Blues):\n",
        "    \"\"\"\n",
        "    This function prints and plots the confusion matrix.\n",
        "    Normalization can be applied by setting normalize=True.\n",
        "    \"\"\"\n",
        "    plt.imshow(cm, interpolation='nearest', cmap=cmap)\n",
        "    plt.title(title)\n",
        "    plt.colorbar()\n",
        "    tick_marks = np.arange(len(classes))\n",
        "    plt.xticks(tick_marks, classes, rotation=45)\n",
        "    plt.yticks(tick_marks, classes)\n",
        "\n",
        "    if normalize:\n",
        "        cm = cm.astype('float') / cm.sum(axis=1)[:, np.newaxis]\n",
        "\n",
        "    thresh = cm.max() / 2.\n",
        "    for i, j in itertools.product(range(cm.shape[0]), range(cm.shape[1])):\n",
        "        plt.text(j, i, cm[i, j],\n",
        "                 horizontalalignment=\"center\",\n",
        "                 color=\"white\" if cm[i, j] > thresh else \"black\")\n",
        "\n",
        "    plt.tight_layout()\n",
        "    plt.ylabel('True label')\n",
        "    plt.xlabel('Predicted label')\n",
        "\n",
        "confusion_mtx = confusion_matrix(y_test, np.argmax(test_predictions, axis = 1)) \n",
        "# plot the confusion matrix\n",
        "plot_confusion_matrix(confusion_mtx, classes = range(10))"
      ],
      "metadata": {
        "colab": {
          "base_uri": "https://localhost:8080/",
          "height": 328
        },
        "id": "OBKtkaNVaF1P",
        "outputId": "220250e8-d761-49fe-ec1d-7a0324e56c11"
      },
      "execution_count": null,
      "outputs": [
        {
          "output_type": "stream",
          "name": "stdout",
          "text": [
            "313/313 [==============================] - 7s 23ms/step\n"
          ]
        },
        {
          "output_type": "display_data",
          "data": {
            "text/plain": [
              "<Figure size 432x288 with 2 Axes>"
            ],
            "image/png": "[encoded data removed]"
          },
          "metadata": {
            "needs_background": "light"
          }
        }
      ]
    },
    {
      "cell_type": "code",
      "source": [],
      "metadata": {
        "id": "Senul0NgI4Ng"
      },
      "execution_count": null,
      "outputs": []
    }
  ]
}